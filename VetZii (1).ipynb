{
  "nbformat": 4,
  "nbformat_minor": 0,
  "metadata": {
    "colab": {
      "provenance": []
    },
    "kernelspec": {
      "name": "python3",
      "display_name": "Python 3"
    },
    "language_info": {
      "name": "python"
    }
  },
  "cells": [
    {
      "cell_type": "markdown",
      "source": [
        "Reading libraries"
      ],
      "metadata": {
        "id": "Ycu425iK1AIO"
      }
    },
    {
      "cell_type": "code",
      "source": [
        "import pandas as pd"
      ],
      "metadata": {
        "id": "X6kCL4gU1Dq-"
      },
      "execution_count": 1,
      "outputs": []
    },
    {
      "cell_type": "markdown",
      "source": [
        "Reading initial dataset"
      ],
      "metadata": {
        "id": "pwOgAaji1H8t"
      }
    },
    {
      "cell_type": "code",
      "source": [
        "dataset = pd.read_csv(\"Animal_Disease_dataset.csv\")\n",
        "dataset"
      ],
      "metadata": {
        "id": "orwVxb2O1LLt"
      },
      "execution_count": null,
      "outputs": []
    },
    {
      "cell_type": "markdown",
      "source": [
        "Remove leading and trailing white spaces from every column"
      ],
      "metadata": {
        "id": "KFJOQOKK2dkH"
      }
    },
    {
      "cell_type": "code",
      "source": [
        "def strip_whitespace(x):\n",
        "    if isinstance(x, str):\n",
        "        return x.strip()\n",
        "    else:\n",
        "        return x\n",
        "\n",
        "dataset = dataset.applymap(strip_whitespace)\n",
        "dataset"
      ],
      "metadata": {
        "id": "dqahrdHY2hGu"
      },
      "execution_count": null,
      "outputs": []
    },
    {
      "cell_type": "markdown",
      "source": [
        "List of animals to remove"
      ],
      "metadata": {
        "id": "2cqmJvlM3de2"
      }
    },
    {
      "cell_type": "code",
      "source": [
        "animals_to_remove = [\"Horse\", \"Turtle\", \"Hamster\", \"Lion\", \"Fox\", \"Deer\", \"Monkey\", \"Fowl\", \"Duck\",\n",
        "                   \"Snake\", \"Donkey\", \"Mules\", \"Elephant\", \"Elk\", \"Wapiti\", \"Tiger\", \"Mule deer\",\n",
        "                   \"Black-tailed deer\", \"Sika deer\", \"White-tailed deer\", \"Reindeer\", \"Moos\",\n",
        "                   \"Wolves\", \"Hyaenas\"\n",
        "                   ]"
      ],
      "metadata": {
        "id": "zP3qKrNR3eVE"
      },
      "execution_count": 10,
      "outputs": []
    },
    {
      "cell_type": "markdown",
      "source": [
        "Filter dataset ingoring case-sensitivity"
      ],
      "metadata": {
        "id": "A7kv7ht43mml"
      }
    },
    {
      "cell_type": "code",
      "source": [
        "filtered_dataset = dataset[~dataset['AnimalName'].str.capitalize().isin(map(str.capitalize, animals_to_remove))]\n",
        "filtered_dataset"
      ],
      "metadata": {
        "id": "iW1trByr3rYu"
      },
      "execution_count": null,
      "outputs": []
    },
    {
      "cell_type": "markdown",
      "source": [],
      "metadata": {
        "id": "iRlWLS4T1Nod"
      }
    }
  ]
}