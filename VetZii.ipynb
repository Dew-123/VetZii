{
  "nbformat": 4,
  "nbformat_minor": 0,
  "metadata": {
    "colab": {
      "provenance": []
    },
    "kernelspec": {
      "name": "python3",
      "display_name": "Python 3"
    },
    "language_info": {
      "name": "python"
    }
  },
  "cells": [
    {
      "cell_type": "code",
      "execution_count": null,
      "metadata": {
        "id": "A5P5YeJMKYTh"
      },
      "outputs": [],
      "source": [
        "import pandas as pd\n",
        "\n",
        "# Load the dataset\n",
        "dataset = pd.read_csv(\"Animal_Disease_dataset.csv\")\n",
        "\n",
        "# Remove leading and trailing white spaces from the 'AnimalName' column\n",
        "dataset['AnimalName'] = dataset['AnimalName'].str.strip()\n",
        "\n",
        "# List of animals to remove\n",
        "animals_to_remove = [\"Horse\", \"Turtle\", \"Hamster\", \"Lion\", \"Fox\", \"Deer\", \"Monkey\", \"Fowl\", \"Duck\",\n",
        "                   \"Snake\", \"Donkey\", \"Mules\", \"Elephant\", \"Elk\", \"Wapiti\", \"Tiger\", \"Mule deer\",\n",
        "                   \"Black-tailed deer\", \"Sika deer\", \"White-tailed deer\", \"Reindeer\", \"Moos\",\n",
        "                   \"Wolves\", \"Hyaenas\"\n",
        "                   ]\n",
        "\n",
        "# Filter the dataset\n",
        "filtered_dataset = dataset[~dataset['AnimalName'].str.capitalize().isin(map(str.capitalize, animals_to_remove))]\n",
        "\n",
        "# Save the filtered dataset to a new CSV file\n",
        "filtered_dataset.to_csv('filtered_animal_diseases.csv', index=False)\n"
      ]
    },
    {
      "cell_type": "code",
      "source": [
        "filtered_dataset.to_csv('filtered_animal_diseases.csv')"
      ],
      "metadata": {
        "id": "nKjLztfaK1AS"
      },
      "execution_count": null,
      "outputs": []
    }
  ]
}